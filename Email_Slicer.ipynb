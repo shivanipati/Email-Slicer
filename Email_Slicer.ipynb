{
 "cells": [
  {
   "cell_type": "code",
   "execution_count": 4,
   "id": "52851d05",
   "metadata": {},
   "outputs": [
    {
     "name": "stdout",
     "output_type": "stream",
     "text": [
      "inter your emailchetankor@gmail.com\n",
      "your username is chetankor and domain name is gmail.com\n"
     ]
    }
   ],
   "source": [
    "email = input(\"inter your email\")\n",
    "username = email[:email.index('@')]\n",
    "domain = email[email.index('@')+1:]\n",
    "print(f\"your username is {username} and domain name is {domain}\")"
   ]
  }
 ],
 "metadata": {
  "kernelspec": {
   "display_name": "Python 3 (ipykernel)",
   "language": "python",
   "name": "python3"
  },
  "language_info": {
   "codemirror_mode": {
    "name": "ipython",
    "version": 3
   },
   "file_extension": ".py",
   "mimetype": "text/x-python",
   "name": "python",
   "nbconvert_exporter": "python",
   "pygments_lexer": "ipython3",
   "version": "3.11.3"
  }
 },
 "nbformat": 4,
 "nbformat_minor": 5
}
